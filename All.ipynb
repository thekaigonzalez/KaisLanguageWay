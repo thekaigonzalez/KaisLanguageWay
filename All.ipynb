{
 "cells": [
  {
   "cell_type": "markdown",
   "metadata": {},
   "source": [
    "# Kai's way of developing programming languages.\n",
    "\n",
    "There's a bunch of different programming languages out there, and one of them being the Build System programming language \"ISys\".\n",
    "\n",
    "How does ISys work? What does it do? That will all be answered for you in this forum.\n",
    "\n",
    "## 1.0 - Base Classes\n",
    "\n",
    "Kai's Programming languages usually start out with a couple of things.\n",
    "\n",
    "- A `BaseLexer` Class, defines a Lexer that breaks down the code into smaller pieces.\n",
    "- A `BaseParser` Class, Defines a parser for semantic data analysis.\n",
    "- A `BaseStatement` Class, this is before a lexer.\n",
    "- A `Runner` class, this runs code. Mostly interactive, but sometimes it's a straight shot.\n",
    "\n",
    "## 1.1 - The \"Only Pay For What You Use\" Rule.\n",
    "\n",
    "There's this one rule which defines how memory is handled. It's called the \"OPFWYU\" Rule. (Only Pay For What You Use).\n",
    "\n",
    "This rule says....\n",
    "\n",
    "```\n",
    "If the statement is of type THIS:\n",
    "    Do memory handling for type THIS.\n",
    "If not:\n",
    "    Evaluate again.\n",
    "\n",
    "```\n",
    "\n",
    "This prevents preloading too many language features, and is also a bad practice because it needs to load classes on the fly.\n",
    "\n",
    "## 1.2 - Examples of OPFWYU"
   ]
  },
  {
   "cell_type": "code",
   "execution_count": 4,
   "metadata": {},
   "outputs": [],
   "source": [
    "import sys\n",
    "import os\n",
    "\n",
    "class OnStat:\n",
    "    def __init__(self, code) -> None:\n",
    "        self.code = code\n",
    "    def run(self):\n",
    "        codes = self.code\n",
    "        print(\"This code is great!\\nCode: \" + codes)\n",
    "\n",
    "# code recognizer.\n",
    "def recognize(str_t: str):\n",
    "    if str_t.startswith(\"I love\"):\n",
    "        stat = OnStat(str_t)\n",
    "        stat.run()\n",
    "    "
   ]
  }
 ],
 "metadata": {
  "interpreter": {
   "hash": "a6961f9ea07a9949d6668d2a04ee774dd19d84f0e3ad71f9622ffbda1db24c75"
  },
  "kernelspec": {
   "display_name": "Python 3.9.7 64-bit (windows store)",
   "name": "python3"
  },
  "language_info": {
   "codemirror_mode": {
    "name": "ipython",
    "version": 3
   },
   "file_extension": ".py",
   "mimetype": "text/x-python",
   "name": "python",
   "nbconvert_exporter": "python",
   "pygments_lexer": "ipython3",
   "version": "3.9.7"
  },
  "orig_nbformat": 4
 },
 "nbformat": 4,
 "nbformat_minor": 2
}
